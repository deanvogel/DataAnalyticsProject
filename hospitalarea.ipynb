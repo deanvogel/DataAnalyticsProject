{
 "cells": [
  {
   "cell_type": "code",
   "execution_count": 1,
   "metadata": {},
   "outputs": [],
   "source": [
    "import pandas as pd\n",
    "import numpy as np"
   ]
  },
  {
   "cell_type": "code",
   "execution_count": 2,
   "metadata": {},
   "outputs": [],
   "source": [
    "drug_data = pd.read_pickle(\"drug_related.pkl\")\n"
   ]
  },
  {
   "cell_type": "code",
   "execution_count": null,
   "metadata": {},
   "outputs": [],
   "source": [
    "selecteddata = drug_data[['dispatch_response_seconds_qy',\n",
    "                          'incident_response_seconds_qy', 'incident_travel_tm_seconds_qy', 'zipcode']].copy()\n"
   ]
  },
  {
   "cell_type": "code",
   "execution_count": 8,
   "metadata": {},
   "outputs": [],
   "source": [
    "hosps = [47,28,24,24,21,36,36,13,8,37,35,42,34,11,9,40,21,50,27,16,\n",
    "13,40,\n",
    "5,40,\n",
    "4,33,\n",
    "7,10,\n",
    "42,41,\n",
    "48,\n",
    "34,\n",
    "49,\n",
    "49,\n",
    "1,\n",
    "8,\n",
    "12,\n",
    "33,\n",
    "24,\n",
    "1,\n",
    "1,\n",
    "1,\n",
    "35,\n",
    "5,\n",
    "42,\n",
    "9,\n",
    "26,\n",
    "9,\n",
    "48,\n",
    "17,\n",
    "11,\n",
    "36,\n",
    "2,\n",
    "36,\n",
    "36,\n",
    "37,\n",
    "4,\n",
    "34,\n",
    "1,\n",
    "16]"
   ]
  },
  {
   "cell_type": "code",
   "execution_count": 9,
   "metadata": {},
   "outputs": [],
   "source": [
    "from collections import Counter\n",
    "hospcount = Counter(hosps)\n"
   ]
  },
  {
   "cell_type": "code",
   "execution_count": 13,
   "metadata": {},
   "outputs": [],
   "source": [
    "for i in range(52):\n",
    "    if i not in hospcount:\n",
    "        hospcount[i] = 0 "
   ]
  },
  {
   "cell_type": "code",
   "execution_count": 14,
   "metadata": {},
   "outputs": [
    {
     "name": "stdout",
     "output_type": "stream",
     "text": [
      "Counter({36: 5, 1: 5, 24: 3, 42: 3, 34: 3, 9: 3, 40: 3, 21: 2, 13: 2, 8: 2, 37: 2, 35: 2, 11: 2, 16: 2, 5: 2, 4: 2, 33: 2, 48: 2, 49: 2, 47: 1, 28: 1, 50: 1, 27: 1, 7: 1, 10: 1, 41: 1, 12: 1, 26: 1, 17: 1, 2: 1, 0: 0, 3: 0, 6: 0, 14: 0, 15: 0, 18: 0, 19: 0, 20: 0, 22: 0, 23: 0, 25: 0, 29: 0, 30: 0, 31: 0, 32: 0, 38: 0, 39: 0, 43: 0, 44: 0, 45: 0, 46: 0, 51: 0})\n"
     ]
    }
   ],
   "source": [
    "print(hospcount)"
   ]
  },
  {
   "cell_type": "code",
   "execution_count": null,
   "metadata": {},
   "outputs": [],
   "source": [
    "selecteddata = drug_data[['dispatch_response_seconds_qy',\n",
    "                          'incident_response_seconds_qy', 'incident_travel_tm_seconds_qy', 'borough']].copy()\n",
    "selecteddata.dropna(axis=0, inplace=True)\n",
    "# zipcodelabels = selecteddata['zipcode']\n",
    "# selecteddata.drop('zipcode', axis=1, inplace=True)\n"
   ]
  },
  {
   "cell_type": "code",
   "execution_count": null,
   "metadata": {},
   "outputs": [],
   "source": [
    "from datetime import datetime\n"
   ]
  }
 ],
 "metadata": {
  "kernelspec": {
   "display_name": "Python 3.8.11 ('IMT-Agent')",
   "language": "python",
   "name": "python3"
  },
  "language_info": {
   "codemirror_mode": {
    "name": "ipython",
    "version": 3
   },
   "file_extension": ".py",
   "mimetype": "text/x-python",
   "name": "python",
   "nbconvert_exporter": "python",
   "pygments_lexer": "ipython3",
   "version": "3.8.11"
  },
  "orig_nbformat": 4,
  "vscode": {
   "interpreter": {
    "hash": "ec1f366de46a403e7ff40b13a13d17e98c9284f829ff9b65a9a3f8fcb406399a"
   }
  }
 },
 "nbformat": 4,
 "nbformat_minor": 2
}
