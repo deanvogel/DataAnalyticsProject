{
 "cells": [
  {
   "cell_type": "code",
   "execution_count": 1,
   "metadata": {},
   "outputs": [],
   "source": [
    "import pandas as pd\n",
    "import numpy as np"
   ]
  },
  {
   "cell_type": "code",
   "execution_count": 2,
   "metadata": {},
   "outputs": [],
   "source": [
    "drug_data = pd.read_pickle(\"drug_related.pkl\")\n"
   ]
  },
  {
   "cell_type": "code",
   "execution_count": 3,
   "metadata": {},
   "outputs": [],
   "source": [
    "#list of hospital council district locations\n",
    "hosps = [47,28,24,24,21,36,36,13,8,37,35,42,34,11,9,40,21,50,27,16,13,40,5,40,4,33,7,10,42,41,48,34,49,49,1,8,12,33,24,1,1,1,35,5,42,9,26,9,48,17,11,36,2,36,36,37,4,34,1,16]"
   ]
  },
  {
   "cell_type": "code",
   "execution_count": 4,
   "metadata": {},
   "outputs": [],
   "source": [
    "from collections import Counter\n",
    "hospcount = Counter(hosps)\n"
   ]
  },
  {
   "cell_type": "code",
   "execution_count": 5,
   "metadata": {},
   "outputs": [],
   "source": [
    "for i in range(52):\n",
    "    if i not in hospcount:\n",
    "        hospcount[i] = 0 "
   ]
  },
  {
   "cell_type": "code",
   "execution_count": 6,
   "metadata": {},
   "outputs": [
    {
     "name": "stdout",
     "output_type": "stream",
     "text": [
      "Counter({36: 5, 1: 5, 24: 3, 42: 3, 34: 3, 9: 3, 40: 3, 21: 2, 13: 2, 8: 2, 37: 2, 35: 2, 11: 2, 16: 2, 5: 2, 4: 2, 33: 2, 48: 2, 49: 2, 47: 1, 28: 1, 50: 1, 27: 1, 7: 1, 10: 1, 41: 1, 12: 1, 26: 1, 17: 1, 2: 1, 0: 0, 3: 0, 6: 0, 14: 0, 15: 0, 18: 0, 19: 0, 20: 0, 22: 0, 23: 0, 25: 0, 29: 0, 30: 0, 31: 0, 32: 0, 38: 0, 39: 0, 43: 0, 44: 0, 45: 0, 46: 0, 51: 0})\n"
     ]
    }
   ],
   "source": [
    "print(hospcount)"
   ]
  },
  {
   "cell_type": "code",
   "execution_count": 9,
   "metadata": {},
   "outputs": [],
   "source": [
    "selecteddata = drug_data[['first_hosp_arrival_dt',\n",
    "                          'first_to_hosp_dt', 'first_on_scene_dt', 'citycouncildistrict', 'incident_travel_tm_seconds_qy','incident_response_seconds_qy']].copy()\n",
    "selecteddata.dropna(axis=0, inplace=True)\n",
    "councilcodelabels = selecteddata['citycouncildistrict']\n"
   ]
  },
  {
   "cell_type": "code",
   "execution_count": 10,
   "metadata": {},
   "outputs": [],
   "source": [
    "#apply new data field of number of hospitls in council district\n",
    "selecteddata[\"council_num_hosps\"] = selecteddata.apply(\n",
    "    lambda row: hospcount[row[\"citycouncildistrict\"]], axis=1)\n"
   ]
  },
  {
   "cell_type": "code",
   "execution_count": 11,
   "metadata": {},
   "outputs": [],
   "source": [
    "selecteddata.drop('citycouncildistrict', axis=1, inplace=True)"
   ]
  },
  {
   "cell_type": "code",
   "execution_count": 11,
   "metadata": {},
   "outputs": [],
   "source": [
    "from datetime import datetime\n"
   ]
  },
  {
   "cell_type": "code",
   "execution_count": 12,
   "metadata": {},
   "outputs": [],
   "source": [
    "#make new data column, elapsed seconds from \"first signal of enroute to hospital\" to \"arrival\"\n",
    "selecteddata[\"hospital_travel_time\"] = selecteddata.apply(\n",
    "    lambda row: (datetime.fromisoformat(row[\"first_hosp_arrival_dt\"][:-1]) - datetime.fromisoformat(row[\"first_to_hosp_dt\"][:-1])).total_seconds(), axis=1)\n"
   ]
  },
  {
   "cell_type": "code",
   "execution_count": 13,
   "metadata": {},
   "outputs": [],
   "source": [
    "#function from https://www.geeksforgeeks.org/how-to-use-pandas-filter-with-iqr/\n",
    "\n",
    "def removeOutliers(data, col):\n",
    "    Q3 = np.quantile(data[col], 0.75)\n",
    "    Q1 = np.quantile(data[col], 0.25)\n",
    "    IQR = Q3 - Q1\n",
    " \n",
    "    print(\"IQR value for column %s is: %s\" % (col, IQR))\n",
    " \n",
    "    lower_range = max(Q1 - 1.5 * IQR,0)\n",
    "    upper_range = Q3 + 1.5 * IQR\n",
    "    outlier_free_list = [x for x in data[col] if (\n",
    "        (x > lower_range) & (x < upper_range))]\n",
    "    return data.loc[data[col].isin(outlier_free_list)]"
   ]
  },
  {
   "cell_type": "code",
   "execution_count": 16,
   "metadata": {},
   "outputs": [
    {
     "name": "stdout",
     "output_type": "stream",
     "text": [
      "IQR value for column hospital_travel_time is: 398.0\n",
      "IQR value for column incident_travel_tm_seconds_qy is: 274.0\n"
     ]
    }
   ],
   "source": [
    "selecteddata = removeOutliers(selecteddata, \"hospital_travel_time\")\n",
    "selecteddata = removeOutliers(selecteddata,\"incident_travel_tm_seconds_qy\")"
   ]
  },
  {
   "cell_type": "code",
   "execution_count": 19,
   "metadata": {},
   "outputs": [],
   "source": [
    "from sklearn.model_selection import train_test_split\n",
    "train, test = train_test_split(selecteddata, test_size=0.2)\n"
   ]
  },
  {
   "cell_type": "code",
   "execution_count": 15,
   "metadata": {},
   "outputs": [],
   "source": [
    "from sklearn.linear_model import Ridge\n"
   ]
  },
  {
   "cell_type": "code",
   "execution_count": 28,
   "metadata": {},
   "outputs": [
    {
     "data": {
      "text/html": [
       "<style>#sk-container-id-6 {color: black;background-color: white;}#sk-container-id-6 pre{padding: 0;}#sk-container-id-6 div.sk-toggleable {background-color: white;}#sk-container-id-6 label.sk-toggleable__label {cursor: pointer;display: block;width: 100%;margin-bottom: 0;padding: 0.3em;box-sizing: border-box;text-align: center;}#sk-container-id-6 label.sk-toggleable__label-arrow:before {content: \"▸\";float: left;margin-right: 0.25em;color: #696969;}#sk-container-id-6 label.sk-toggleable__label-arrow:hover:before {color: black;}#sk-container-id-6 div.sk-estimator:hover label.sk-toggleable__label-arrow:before {color: black;}#sk-container-id-6 div.sk-toggleable__content {max-height: 0;max-width: 0;overflow: hidden;text-align: left;background-color: #f0f8ff;}#sk-container-id-6 div.sk-toggleable__content pre {margin: 0.2em;color: black;border-radius: 0.25em;background-color: #f0f8ff;}#sk-container-id-6 input.sk-toggleable__control:checked~div.sk-toggleable__content {max-height: 200px;max-width: 100%;overflow: auto;}#sk-container-id-6 input.sk-toggleable__control:checked~label.sk-toggleable__label-arrow:before {content: \"▾\";}#sk-container-id-6 div.sk-estimator input.sk-toggleable__control:checked~label.sk-toggleable__label {background-color: #d4ebff;}#sk-container-id-6 div.sk-label input.sk-toggleable__control:checked~label.sk-toggleable__label {background-color: #d4ebff;}#sk-container-id-6 input.sk-hidden--visually {border: 0;clip: rect(1px 1px 1px 1px);clip: rect(1px, 1px, 1px, 1px);height: 1px;margin: -1px;overflow: hidden;padding: 0;position: absolute;width: 1px;}#sk-container-id-6 div.sk-estimator {font-family: monospace;background-color: #f0f8ff;border: 1px dotted black;border-radius: 0.25em;box-sizing: border-box;margin-bottom: 0.5em;}#sk-container-id-6 div.sk-estimator:hover {background-color: #d4ebff;}#sk-container-id-6 div.sk-parallel-item::after {content: \"\";width: 100%;border-bottom: 1px solid gray;flex-grow: 1;}#sk-container-id-6 div.sk-label:hover label.sk-toggleable__label {background-color: #d4ebff;}#sk-container-id-6 div.sk-serial::before {content: \"\";position: absolute;border-left: 1px solid gray;box-sizing: border-box;top: 0;bottom: 0;left: 50%;z-index: 0;}#sk-container-id-6 div.sk-serial {display: flex;flex-direction: column;align-items: center;background-color: white;padding-right: 0.2em;padding-left: 0.2em;position: relative;}#sk-container-id-6 div.sk-item {position: relative;z-index: 1;}#sk-container-id-6 div.sk-parallel {display: flex;align-items: stretch;justify-content: center;background-color: white;position: relative;}#sk-container-id-6 div.sk-item::before, #sk-container-id-6 div.sk-parallel-item::before {content: \"\";position: absolute;border-left: 1px solid gray;box-sizing: border-box;top: 0;bottom: 0;left: 50%;z-index: -1;}#sk-container-id-6 div.sk-parallel-item {display: flex;flex-direction: column;z-index: 1;position: relative;background-color: white;}#sk-container-id-6 div.sk-parallel-item:first-child::after {align-self: flex-end;width: 50%;}#sk-container-id-6 div.sk-parallel-item:last-child::after {align-self: flex-start;width: 50%;}#sk-container-id-6 div.sk-parallel-item:only-child::after {width: 0;}#sk-container-id-6 div.sk-dashed-wrapped {border: 1px dashed gray;margin: 0 0.4em 0.5em 0.4em;box-sizing: border-box;padding-bottom: 0.4em;background-color: white;}#sk-container-id-6 div.sk-label label {font-family: monospace;font-weight: bold;display: inline-block;line-height: 1.2em;}#sk-container-id-6 div.sk-label-container {text-align: center;}#sk-container-id-6 div.sk-container {/* jupyter's `normalize.less` sets `[hidden] { display: none; }` but bootstrap.min.css set `[hidden] { display: none !important; }` so we also need the `!important` here to be able to override the default hidden behavior on the sphinx rendered scikit-learn.org. See: https://github.com/scikit-learn/scikit-learn/issues/21755 */display: inline-block !important;position: relative;}#sk-container-id-6 div.sk-text-repr-fallback {display: none;}</style><div id=\"sk-container-id-6\" class=\"sk-top-container\"><div class=\"sk-text-repr-fallback\"><pre>Ridge(alpha=0.001)</pre><b>In a Jupyter environment, please rerun this cell to show the HTML representation or trust the notebook. <br />On GitHub, the HTML representation is unable to render, please try loading this page with nbviewer.org.</b></div><div class=\"sk-container\" hidden><div class=\"sk-item\"><div class=\"sk-estimator sk-toggleable\"><input class=\"sk-toggleable__control sk-hidden--visually\" id=\"sk-estimator-id-6\" type=\"checkbox\" checked><label for=\"sk-estimator-id-6\" class=\"sk-toggleable__label sk-toggleable__label-arrow\">Ridge</label><div class=\"sk-toggleable__content\"><pre>Ridge(alpha=0.001)</pre></div></div></div></div></div>"
      ],
      "text/plain": [
       "Ridge(alpha=0.001)"
      ]
     },
     "execution_count": 28,
     "metadata": {},
     "output_type": "execute_result"
    }
   ],
   "source": [
    "rdg = Ridge(alpha=.001)\n",
    "rdg.fit(train[['council_num_hosps', 'incident_travel_tm_seconds_qy', 'incident_response_seconds_qy']].values,\n",
    "        train['hospital_travel_time'].values)\n"
   ]
  },
  {
   "cell_type": "code",
   "execution_count": null,
   "metadata": {},
   "outputs": [],
   "source": [
    "# print(selecteddata['council_num_hosps'].values.reshape(-1, 1))\n",
    "# print(list(selecteddata['hospital_travel_time'].values))\n",
    "# print(sorted(list(selecteddata['hospital_travel_time'].values),reverse=True))"
   ]
  },
  {
   "cell_type": "code",
   "execution_count": 29,
   "metadata": {},
   "outputs": [
    {
     "name": "stdout",
     "output_type": "stream",
     "text": [
      "[-1.16638069e+01  2.84985993e-01  9.45680883e-03]\n",
      "428.8622123623278\n",
      "0.041843720167006104\n"
     ]
    }
   ],
   "source": [
    "print(rdg.coef_)\n",
    "print(rdg.intercept_)\n",
    "print(rdg.score(test[['council_num_hosps', 'incident_travel_tm_seconds_qy','incident_response_seconds_qy']].values,\n",
    "            test['hospital_travel_time'].values))\n"
   ]
  },
  {
   "cell_type": "code",
   "execution_count": 32,
   "metadata": {},
   "outputs": [],
   "source": [
    "import matplotlib.pyplot as plt"
   ]
  },
  {
   "cell_type": "code",
   "execution_count": 76,
   "metadata": {},
   "outputs": [
    {
     "data": {
      "text/plain": [
       "<matplotlib.collections.PathCollection at 0x1aa471bbfd0>"
      ]
     },
     "execution_count": 76,
     "metadata": {},
     "output_type": "execute_result"
    },
    {
     "data": {
      "image/png": "[encoded data removed]",
      "text/plain": [
       "<Figure size 432x288 with 1 Axes>"
      ]
     },
     "metadata": {
      "needs_background": "light"
     },
     "output_type": "display_data"
    }
   ],
   "source": [
    "plt.scatter(selecteddata['council_num_hosps'].values\n",
    ",selecteddata['hospital_travel_time'].values)"
   ]
  },
  {
   "cell_type": "code",
   "execution_count": 33,
   "metadata": {},
   "outputs": [
    {
     "data": {
      "image/png": "[encoded data removed]",
      "text/plain": [
       "<Figure size 432x288 with 1 Axes>"
      ]
     },
     "metadata": {
      "needs_background": "light"
     },
     "output_type": "display_data"
    }
   ],
   "source": [
    "x=np.linspace(0,5,15000)\n",
    "plt.plot(x,rdg.coef_[0]*x+rdg.intercept_)\n",
    "plt.xlabel(\"NUMBER OF CARE CENTERS IN CITY COUNCIL DISTRICT\")\n",
    "plt.ylabel(\"HOSPITAL TRANSPORT TIME(s)\")\n",
    "plt.show()"
   ]
  },
  {
   "cell_type": "code",
   "execution_count": 34,
   "metadata": {},
   "outputs": [
    {
     "data": {
      "image/png": "[encoded data removed]",
      "text/plain": [
       "<Figure size 432x288 with 1 Axes>"
      ]
     },
     "metadata": {
      "needs_background": "light"
     },
     "output_type": "display_data"
    }
   ],
   "source": [
    "x=np.linspace(100,1000,15000)\n",
    "plt.plot(x,rdg.coef_[1]*x+rdg.intercept_)\n",
    "plt.xlabel(\"INCIDENT ASSIGNMENT TO ARRIVAL TIME(s)\")\n",
    "plt.ylabel(\"HOSPITAL TRANSPORT TIME(s)\")\n",
    "plt.show()"
   ]
  },
  {
   "cell_type": "code",
   "execution_count": 35,
   "metadata": {},
   "outputs": [
    {
     "data": {
      "image/png": "[encoded data removed]",
      "text/plain": [
       "<Figure size 432x288 with 1 Axes>"
      ]
     },
     "metadata": {
      "needs_background": "light"
     },
     "output_type": "display_data"
    }
   ],
   "source": [
    "x=np.linspace(100,1000,15000)\n",
    "plt.plot(x,rdg.coef_[2]*x+rdg.intercept_)\n",
    "plt.xlabel(\"INCIDENT CALL TO ARRIVAL TIME(s)\")\n",
    "plt.ylabel(\"HOSPITAL TRANSPORT TIME(s)\")\n",
    "plt.show()"
   ]
  },
  {
   "cell_type": "code",
   "execution_count": 36,
   "metadata": {},
   "outputs": [],
   "source": [
    "\n",
    "from sklearn.preprocessing import PolynomialFeatures\n",
    "from sklearn.pipeline import make_pipeline\n",
    "from sklearn.linear_model import LinearRegression\n",
    "from sklearn import preprocessing\n"
   ]
  },
  {
   "cell_type": "code",
   "execution_count": 41,
   "metadata": {},
   "outputs": [
    {
     "name": "stdout",
     "output_type": "stream",
     "text": [
      "Polynomial Degree 0\n",
      "-1.630262316498765e-05\n",
      "Polynomial Degree 1\n",
      "0.04184372016628146\n",
      "Polynomial Degree 2\n",
      "0.04288729485496734\n",
      "Polynomial Degree 3\n",
      "0.04370075280624086\n",
      "Polynomial Degree 4\n",
      "0.04419104992473555\n",
      "Polynomial Degree 5\n",
      "0.042940930791860565\n"
     ]
    }
   ],
   "source": [
    "scaler = preprocessing.StandardScaler()\n",
    "degree=9\n",
    "for degree in range(6):\n",
    "    print(f\"Polynomial Degree {degree}\")\n",
    "    regression=make_pipeline(PolynomialFeatures(degree),scaler,LinearRegression())\n",
    "    regression.fit(train[['council_num_hosps', 'incident_travel_tm_seconds_qy', 'incident_response_seconds_qy']].values,\n",
    "        train['hospital_travel_time'].values)\n",
    "    # print(\"Coefficients\")\n",
    "    # print(g.coef_)\n",
    "    # print(\"Intercept\")\n",
    "    # print(g.intercept_)\n",
    "    # print(\"r^2\")\n",
    "    print(regression.score(test[['council_num_hosps', 'incident_travel_tm_seconds_qy', 'incident_response_seconds_qy']].values,\n",
    "                     test['hospital_travel_time'].values))\n"
   ]
  },
  {
   "cell_type": "code",
   "execution_count": 47,
   "metadata": {},
   "outputs": [
    {
     "name": "stdout",
     "output_type": "stream",
     "text": [
      "35\n"
     ]
    },
    {
     "data": {
      "text/plain": [
       "531.0588317456181"
      ]
     },
     "execution_count": 47,
     "metadata": {},
     "output_type": "execute_result"
    }
   ],
   "source": [
    "regression=make_pipeline(PolynomialFeatures(4),scaler,LinearRegression())\n",
    "regression.fit(train[['council_num_hosps', 'incident_travel_tm_seconds_qy', 'incident_response_seconds_qy']].values,\n",
    "        train['hospital_travel_time'].values)\n",
    "r = regression[-1]\n",
    "print(len(r.coef_))\n",
    "r.intercept_"
   ]
  },
  {
   "cell_type": "code",
   "execution_count": 50,
   "metadata": {},
   "outputs": [
    {
     "data": {
      "image/png": "[encoded data removed]",
      "text/plain": [
       "<Figure size 432x288 with 1 Axes>"
      ]
     },
     "metadata": {},
     "output_type": "display_data"
    }
   ],
   "source": [
    "y = regression.predict(\n",
    "    test[['council_num_hosps', 'incident_travel_tm_seconds_qy', 'incident_response_seconds_qy']].values)\n",
    "# plt.scatter(test[['council_num_hosps', 'incident_travel_tm_seconds_qy', 'incident_response_seconds_qy']].values,\n",
    "#             test['hospital_travel_time'].values, color=\"black\")\n",
    "plt.plot(test[['council_num_hosps', 'incident_travel_tm_seconds_qy', 'incident_response_seconds_qy']].values,\n",
    "         y, color=\"blue\", linewidth=1)\n",
    "\n",
    "plt.xticks(())\n",
    "plt.yticks(())\n",
    "\n",
    "plt.show()\n"
   ]
  }
 ],
 "metadata": {
  "kernelspec": {
   "display_name": "Python 3.8.11 ('IMT-Agent')",
   "language": "python",
   "name": "python3"
  },
  "language_info": {
   "codemirror_mode": {
    "name": "ipython",
    "version": 3
   },
   "file_extension": ".py",
   "mimetype": "text/x-python",
   "name": "python",
   "nbconvert_exporter": "python",
   "pygments_lexer": "ipython3",
   "version": "3.8.11"
  },
  "orig_nbformat": 4,
  "vscode": {
   "interpreter": {
    "hash": "ec1f366de46a403e7ff40b13a13d17e98c9284f829ff9b65a9a3f8fcb406399a"
   }
  }
 },
 "nbformat": 4,
 "nbformat_minor": 2
}
