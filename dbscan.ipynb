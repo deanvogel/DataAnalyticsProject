{
 "cells": [
  {
   "cell_type": "code",
   "execution_count": 1,
   "metadata": {},
   "outputs": [],
   "source": [
    "from sklearn.cluster import DBSCAN\n",
    "import numpy as np\n",
    "import pandas as pd"
   ]
  },
  {
   "cell_type": "code",
   "execution_count": 2,
   "metadata": {},
   "outputs": [],
   "source": [
    "drug_data = pd.read_pickle(\"drug_related.pkl\")\n",
    "selecteddata = drug_data[['dispatch_response_seconds_qy',\n",
    "                          'incident_response_seconds_qy', 'incident_travel_tm_seconds_qy', 'zipcode']].copy()\n",
    "selecteddata.dropna(axis=0, inplace=True)\n",
    "zipcodelabels = selecteddata['zipcode']\n",
    "selecteddata.drop('zipcode', axis=1, inplace=True)\n"
   ]
  },
  {
   "cell_type": "code",
   "execution_count": 3,
   "metadata": {},
   "outputs": [
    {
     "data": {
      "text/plain": [
       "700077"
      ]
     },
     "execution_count": 3,
     "metadata": {},
     "output_type": "execute_result"
    }
   ],
   "source": [
    "len(selecteddata)"
   ]
  },
  {
   "cell_type": "code",
   "execution_count": 8,
   "metadata": {},
   "outputs": [
    {
     "data": {
      "text/plain": [
       "<bound method NDFrame.head of         dispatch_response_seconds_qy  incident_response_seconds_qy  \\\n",
       "0                                 30                         366.0   \n",
       "1                                115                         270.0   \n",
       "2                                245                         472.0   \n",
       "3                                 13                         547.0   \n",
       "4                                 28                         749.0   \n",
       "...                              ...                           ...   \n",
       "739814                            14                         257.0   \n",
       "739815                           326                         843.0   \n",
       "739816                            39                         313.0   \n",
       "739817                           202                         753.0   \n",
       "739818                            10                         490.0   \n",
       "\n",
       "        incident_travel_tm_seconds_qy  \n",
       "0                               336.0  \n",
       "1                               155.0  \n",
       "2                               227.0  \n",
       "3                               534.0  \n",
       "4                               721.0  \n",
       "...                               ...  \n",
       "739814                          243.0  \n",
       "739815                          517.0  \n",
       "739816                          274.0  \n",
       "739817                          551.0  \n",
       "739818                          480.0  \n",
       "\n",
       "[700077 rows x 3 columns]>"
      ]
     },
     "execution_count": 8,
     "metadata": {},
     "output_type": "execute_result"
    }
   ],
   "source": [
    "selecteddata.head"
   ]
  },
  {
   "cell_type": "code",
   "execution_count": 5,
   "metadata": {},
   "outputs": [
    {
     "data": {
      "text/plain": [
       "array([ 0,  1, -1, ...,  0, -1,  0], dtype=int64)"
      ]
     },
     "execution_count": 5,
     "metadata": {},
     "output_type": "execute_result"
    }
   ],
   "source": [
    "clustering = DBSCAN(eps=2, min_samples=5).fit(selecteddata)\n",
    "clustering.labels_\n"
   ]
  },
  {
   "cell_type": "code",
   "execution_count": 6,
   "metadata": {},
   "outputs": [],
   "source": [
    "labels = clustering.labels_\n",
    "n_clusters_ = len(set(labels)) - (1 if -1 in labels else 0)\n",
    "n_noise_ = list(labels).count(-1)\n"
   ]
  },
  {
   "cell_type": "code",
   "execution_count": 7,
   "metadata": {},
   "outputs": [
    {
     "data": {
      "text/plain": [
       "2019"
      ]
     },
     "execution_count": 7,
     "metadata": {},
     "output_type": "execute_result"
    }
   ],
   "source": [
    "n_clusters_"
   ]
  }
 ],
 "metadata": {
  "kernelspec": {
   "display_name": "Python 3.8.11 ('IMT-Agent')",
   "language": "python",
   "name": "python3"
  },
  "language_info": {
   "codemirror_mode": {
    "name": "ipython",
    "version": 3
   },
   "file_extension": ".py",
   "mimetype": "text/x-python",
   "name": "python",
   "nbconvert_exporter": "python",
   "pygments_lexer": "ipython3",
   "version": "3.8.11"
  },
  "orig_nbformat": 4,
  "vscode": {
   "interpreter": {
    "hash": "ec1f366de46a403e7ff40b13a13d17e98c9284f829ff9b65a9a3f8fcb406399a"
   }
  }
 },
 "nbformat": 4,
 "nbformat_minor": 2
}
