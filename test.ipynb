{
 "cells": [
  {
   "cell_type": "code",
   "execution_count": 4,
   "metadata": {},
   "outputs": [],
   "source": [
    "import pandas as pd\n",
    "import numpy as np\n",
    "from collections import Counter\n",
    "drugnumbers = [39,40,43,44]"
   ]
  },
  {
   "cell_type": "code",
   "execution_count": 3,
   "metadata": {},
   "outputs": [
    {
     "name": "stderr",
     "output_type": "stream",
     "text": [
      "C:\\Users\\vogeld2\\AppData\\Local\\Temp\\ipykernel_11448\\1906546336.py:1: DtypeWarning: Columns (12) have mixed types. Specify dtype option on import or set low_memory=False.\n",
      "  full_csv = pd.read_csv(\"emsdata.csv\")\n"
     ]
    }
   ],
   "source": [
    "full_csv = pd.read_csv(\"emsdata.csv\")"
   ]
  },
  {
   "cell_type": "code",
   "execution_count": 12,
   "metadata": {},
   "outputs": [],
   "source": [
    "# print(full_csv.dtypes)\n",
    "drug_csv = full_csv[full_csv[\"initial_call_type\"].isin(drugnumbers) | full_csv[\"final_call_type\"].isin(drugnumbers)] "
   ]
  },
  {
   "cell_type": "code",
   "execution_count": 15,
   "metadata": {},
   "outputs": [
    {
     "data": {
      "text/plain": [
       "(739819, 32)"
      ]
     },
     "execution_count": 15,
     "metadata": {},
     "output_type": "execute_result"
    }
   ],
   "source": [
    "drug_csv.shape"
   ]
  },
  {
   "cell_type": "code",
   "execution_count": 2,
   "metadata": {},
   "outputs": [
    {
     "name": "stderr",
     "output_type": "stream",
     "text": [
      "C:\\Users\\vogeld2\\AppData\\Local\\Temp\\ipykernel_2832\\2924207596.py:1: DtypeWarning: Columns (13) have mixed types. Specify dtype option on import or set low_memory=False.\n",
      "  drug_csv = pd.read_csv(\"drug_related_ems.csv\")\n"
     ]
    }
   ],
   "source": [
    "\n",
    "drug_csv = pd.read_csv(\"drug_related_ems.csv\")\n",
    "\n"
   ]
  },
  {
   "cell_type": "code",
   "execution_count": 4,
   "metadata": {},
   "outputs": [
    {
     "name": "stdout",
     "output_type": "stream",
     "text": [
      "Index(['cad_incident_id', 'initial_severity_level_code',\n",
      "       'final_severity_level_code', 'valid_dispatch_rspns_time_indc',\n",
      "       'dispatch_response_seconds_qy', 'valid_incident_rspns_time_indc',\n",
      "       'incident_response_seconds_qy', 'incident_travel_tm_seconds_qy',\n",
      "       'held_indicator', 'incident_disposition_code', 'borough',\n",
      "       'incident_dispatch_area', 'zipcode', 'policeprecinct',\n",
      "       'citycouncildistrict', 'communitydistrict', 'communityschooldistrict',\n",
      "       'congressionaldistrict', 'reopen_indicator', 'special_event_indicator',\n",
      "       'standby_indicator', 'transfer_indicator', 'incident_dt',\n",
      "       'first_assign_dt', 'first_act_dt', 'first_on_scene_dt',\n",
      "       'first_to_hosp_dt', 'first_hosp_arrival_dt', 'incident_close_dt',\n",
      "       'incident_year', 'initial_call_type', 'final_call_type'],\n",
      "      dtype='object')\n"
     ]
    }
   ],
   "source": [
    "drug_csv.drop(columns=drug_csv.columns[0], \n",
    "        axis=1, \n",
    "        inplace=True)\n",
    "cols = drug_csv.columns\n",
    "print(cols)"
   ]
  },
  {
   "cell_type": "code",
   "execution_count": 6,
   "metadata": {},
   "outputs": [],
   "source": [
    "drug_csv.to_pickle(\"drug_related.pkl\")"
   ]
  },
  {
   "cell_type": "code",
   "execution_count": 3,
   "metadata": {},
   "outputs": [],
   "source": [
    "d = pd.read_pickle(\"drug_related.pkl\")"
   ]
  },
  {
   "cell_type": "code",
   "execution_count": 15,
   "metadata": {},
   "outputs": [],
   "source": [
    "drug_csv.to_csv(\"drug_related_ems.csv\")"
   ]
  },
  {
   "cell_type": "code",
   "execution_count": 6,
   "metadata": {},
   "outputs": [],
   "source": [
    "ems_np = d.to_numpy()"
   ]
  },
  {
   "cell_type": "code",
   "execution_count": 7,
   "metadata": {},
   "outputs": [],
   "source": [
    "boroughs = ems_np[:,11]"
   ]
  },
  {
   "cell_type": "code",
   "execution_count": 5,
   "metadata": {},
   "outputs": [],
   "source": [
    "import matplotlib.pyplot as plt"
   ]
  },
  {
   "cell_type": "code",
   "execution_count": 11,
   "metadata": {},
   "outputs": [],
   "source": [
    "boroughsunique = np.unique(boroughs)"
   ]
  },
  {
   "cell_type": "code",
   "execution_count": 12,
   "metadata": {},
   "outputs": [
    {
     "name": "stdout",
     "output_type": "stream",
     "text": [
      "['BRONX' 'BROOKLYN' 'MANHATTAN' 'QUEENS' 'RICHMOND / STATEN ISLAND'\n",
      " 'UNKNOWN']\n"
     ]
    }
   ],
   "source": [
    "print(boroughsunique)"
   ]
  },
  {
   "cell_type": "code",
   "execution_count": 22,
   "metadata": {},
   "outputs": [
    {
     "data": {
      "text/plain": [
       "<BarContainer object of 6 artists>"
      ]
     },
     "execution_count": 22,
     "metadata": {},
     "output_type": "execute_result"
    },
    {
     "data": {
      "image/png": "[encoded data removed]",
      "text/plain": [
       "<Figure size 432x288 with 1 Axes>"
      ]
     },
     "metadata": {
      "needs_background": "light"
     },
     "output_type": "display_data"
    }
   ],
   "source": [
    "from collections import Counter\n",
    "boroughcounts = Counter(boroughs)\n",
    "# print(boroughcounts)\n",
    "plt.bar(range(len(boroughcounts)), boroughcounts.values(), tick_label = [x[0:4] for x in list(boroughcounts.keys())])"
   ]
  },
  {
   "cell_type": "code",
   "execution_count": 26,
   "metadata": {},
   "outputs": [
    {
     "data": {
      "text/plain": [
       "Text(0.5, 1.0, 'Drug-related emergency calls per person per year')"
      ]
     },
     "execution_count": 26,
     "metadata": {},
     "output_type": "execute_result"
    },
    {
     "data": {
      "image/png": "[encoded data removed]",
      "text/plain": [
       "<Figure size 432x288 with 1 Axes>"
      ]
     },
     "metadata": {
      "needs_background": "light"
     },
     "output_type": "display_data"
    }
   ],
   "source": [
    "calls = np.asarray(list(boroughcounts.values()))\n",
    "pop = np.asarray([1626159,2592149,1418733,472621,2296175,8405837])\n",
    "rates = calls/pop\n",
    "rates /= 8\n",
    "plt.bar(range(len(boroughcounts)), rates, tick_label = [x[0:4] for x in list(boroughcounts.keys())])\n",
    "plt.xlabel(\"Borough\")\n",
    "plt.title(\"Drug-related emergency calls per person per year\")\n"
   ]
  },
  {
   "cell_type": "code",
   "execution_count": 8,
   "metadata": {},
   "outputs": [],
   "source": [
    "ZIPCODE = [int(float(str(x).replace(\",\",\"\"))) for x in ems_np[:,13] if str(x) != \"nan\"]\n",
    "zipcounter = Counter(ZIPCODE)"
   ]
  },
  {
   "cell_type": "code",
   "execution_count": 9,
   "metadata": {},
   "outputs": [
    {
     "name": "stdout",
     "output_type": "stream",
     "text": [
      "77\n",
      "[13, 70, 18, 43, 121, 14, 44, 114, 17, 6, 32, 25, 10, 19, 120, 52, 103, 83, 122, 9, 110, 1, 104, 90, 40, 115, 60, 81, 62, 78, 108, 46, 26, 48, 20, 113, 75, 109, 72, 5, 42, 69, 68, 111, 61, 24, 73, 100, 63, 30, 84, 66, 123, 79, 50, 28, 33, 94, 45, 112, 102, 7, 106, 67, 49, 23, 47, 71, 105, 77, 41, 34, 88, 107, 101, 76, 22]\n"
     ]
    }
   ],
   "source": [
    "zips = list(zipcounter.keys())\n",
    "counts = list(zipcounter.values())\n",
    "print(len(zips))\n",
    "print(zips)"
   ]
  },
  {
   "cell_type": "code",
   "execution_count": 13,
   "metadata": {},
   "outputs": [
    {
     "name": "stdout",
     "output_type": "stream",
     "text": [
      "14\n"
     ]
    }
   ],
   "source": [
    "max_zip = max(zipcounter, key = zipcounter.get)\n",
    "print(max_zip)"
   ]
  },
  {
   "cell_type": "code",
   "execution_count": 10,
   "metadata": {},
   "outputs": [
    {
     "data": {
      "text/plain": [
       "<BarContainer object of 77 artists>"
      ]
     },
     "execution_count": 10,
     "metadata": {},
     "output_type": "execute_result"
    },
    {
     "data": {
      "image/png": "[encoded data removed]",
      "text/plain": [
       "<Figure size 432x288 with 1 Axes>"
      ]
     },
     "metadata": {
      "needs_background": "light"
     },
     "output_type": "display_data"
    }
   ],
   "source": [
    "\n",
    "plt.bar(range(len(zipcounter)), sorted(counts), tick_label = zips)"
   ]
  },
  {
   "cell_type": "code",
   "execution_count": 9,
   "metadata": {},
   "outputs": [
    {
     "name": "stdout",
     "output_type": "stream",
     "text": [
      "None\n"
     ]
    }
   ],
   "source": [
    "print(ems_np.dtype.names)"
   ]
  },
  {
   "cell_type": "code",
   "execution_count": 16,
   "metadata": {},
   "outputs": [
    {
     "data": {
      "text/plain": [
       "[<matplotlib.lines.Line2D at 0x25413069bb0>]"
      ]
     },
     "execution_count": 16,
     "metadata": {},
     "output_type": "execute_result"
    },
    {
     "data": {
      "image/png": "[encoded data removed]",
      "text/plain": [
       "<Figure size 432x288 with 1 Axes>"
      ]
     },
     "metadata": {
      "needs_background": "light"
     },
     "output_type": "display_data"
    }
   ],
   "source": [
    "y = [2153709.000000756, 1379982.7839035469, 985498.0123193634, 778910.3777266023, 600300.8927582309,\n",
    "     499391.366767894, 440709.1644858943, 363367.468635155, 328133.91385117185, 304231.1723485692]\n",
    "x = [0, 1, 2, 3, 4, 5, 6, 7, 8, 9]\n",
    "plt.plot(x, y)\n"
   ]
  },
  {
   "cell_type": "code",
   "execution_count": 14,
   "metadata": {},
   "outputs": [],
   "source": [
    "health = pd.read_csv(\"NYC_Health___Hospitals_patient_care_locations_-_2011.csv\")"
   ]
  },
  {
   "cell_type": "code",
   "execution_count": 16,
   "metadata": {},
   "outputs": [
    {
     "data": {
      "image/png": "[encoded data removed]",
      "text/plain": [
       "<Figure size 432x288 with 1 Axes>"
      ]
     },
     "metadata": {
      "needs_background": "light"
     },
     "output_type": "display_data"
    }
   ],
   "source": [
    "health[\"Borough\"].value_counts().plot(kind='bar');"
   ]
  },
  {
   "cell_type": "code",
   "execution_count": 20,
   "metadata": {},
   "outputs": [
    {
     "data": {
      "text/html": [
       "<div>\n",
       "<style scoped>\n",
       "    .dataframe tbody tr th:only-of-type {\n",
       "        vertical-align: middle;\n",
       "    }\n",
       "\n",
       "    .dataframe tbody tr th {\n",
       "        vertical-align: top;\n",
       "    }\n",
       "\n",
       "    .dataframe thead th {\n",
       "        text-align: right;\n",
       "    }\n",
       "</style>\n",
       "<table border=\"1\" class=\"dataframe\">\n",
       "  <thead>\n",
       "    <tr style=\"text-align: right;\">\n",
       "      <th></th>\n",
       "      <th>dispatch_response_seconds_qy</th>\n",
       "      <th>incident_response_seconds_qy</th>\n",
       "      <th>incident_travel_tm_seconds_qy</th>\n",
       "    </tr>\n",
       "  </thead>\n",
       "  <tbody>\n",
       "    <tr>\n",
       "      <th>count</th>\n",
       "      <td>739819.000000</td>\n",
       "      <td>717907.000000</td>\n",
       "      <td>717924.000000</td>\n",
       "    </tr>\n",
       "    <tr>\n",
       "      <th>mean</th>\n",
       "      <td>79.896787</td>\n",
       "      <td>522.525560</td>\n",
       "      <td>443.723095</td>\n",
       "    </tr>\n",
       "    <tr>\n",
       "      <th>std</th>\n",
       "      <td>256.718155</td>\n",
       "      <td>416.660447</td>\n",
       "      <td>340.072227</td>\n",
       "    </tr>\n",
       "    <tr>\n",
       "      <th>min</th>\n",
       "      <td>0.000000</td>\n",
       "      <td>0.000000</td>\n",
       "      <td>0.000000</td>\n",
       "    </tr>\n",
       "    <tr>\n",
       "      <th>25%</th>\n",
       "      <td>16.000000</td>\n",
       "      <td>302.000000</td>\n",
       "      <td>266.000000</td>\n",
       "    </tr>\n",
       "    <tr>\n",
       "      <th>50%</th>\n",
       "      <td>27.000000</td>\n",
       "      <td>433.000000</td>\n",
       "      <td>387.000000</td>\n",
       "    </tr>\n",
       "    <tr>\n",
       "      <th>75%</th>\n",
       "      <td>52.000000</td>\n",
       "      <td>622.000000</td>\n",
       "      <td>550.000000</td>\n",
       "    </tr>\n",
       "    <tr>\n",
       "      <th>max</th>\n",
       "      <td>29793.000000</td>\n",
       "      <td>30294.000000</td>\n",
       "      <td>87032.000000</td>\n",
       "    </tr>\n",
       "  </tbody>\n",
       "</table>\n",
       "</div>"
      ],
      "text/plain": [
       "       dispatch_response_seconds_qy  incident_response_seconds_qy  \\\n",
       "count                 739819.000000                 717907.000000   \n",
       "mean                      79.896787                    522.525560   \n",
       "std                      256.718155                    416.660447   \n",
       "min                        0.000000                      0.000000   \n",
       "25%                       16.000000                    302.000000   \n",
       "50%                       27.000000                    433.000000   \n",
       "75%                       52.000000                    622.000000   \n",
       "max                    29793.000000                  30294.000000   \n",
       "\n",
       "       incident_travel_tm_seconds_qy  \n",
       "count                  717924.000000  \n",
       "mean                      443.723095  \n",
       "std                       340.072227  \n",
       "min                         0.000000  \n",
       "25%                       266.000000  \n",
       "50%                       387.000000  \n",
       "75%                       550.000000  \n",
       "max                     87032.000000  "
      ]
     },
     "execution_count": 20,
     "metadata": {},
     "output_type": "execute_result"
    }
   ],
   "source": [
    "d[[\"dispatch_response_seconds_qy\",\"incident_response_seconds_qy\",\"incident_travel_tm_seconds_qy\"]].describe()"
   ]
  }
 ],
 "metadata": {
  "kernelspec": {
   "display_name": "Python 3.8.11 ('IMT-Agent')",
   "language": "python",
   "name": "python3"
  },
  "language_info": {
   "codemirror_mode": {
    "name": "ipython",
    "version": 3
   },
   "file_extension": ".py",
   "mimetype": "text/x-python",
   "name": "python",
   "nbconvert_exporter": "python",
   "pygments_lexer": "ipython3",
   "version": "3.8.11"
  },
  "orig_nbformat": 4,
  "vscode": {
   "interpreter": {
    "hash": "ec1f366de46a403e7ff40b13a13d17e98c9284f829ff9b65a9a3f8fcb406399a"
   }
  }
 },
 "nbformat": 4,
 "nbformat_minor": 2
}
