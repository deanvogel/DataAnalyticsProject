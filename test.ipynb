{
 "cells": [
  {
   "cell_type": "code",
   "execution_count": 1,
   "metadata": {},
   "outputs": [],
   "source": [
    "import pandas as pd\n",
    "import numpy as np\n",
    "drugnumbers = [39,40,43,44]"
   ]
  },
  {
   "cell_type": "code",
   "execution_count": 3,
   "metadata": {},
   "outputs": [
    {
     "name": "stderr",
     "output_type": "stream",
     "text": [
      "C:\\Users\\vogeld2\\AppData\\Local\\Temp\\ipykernel_11448\\1906546336.py:1: DtypeWarning: Columns (12) have mixed types. Specify dtype option on import or set low_memory=False.\n",
      "  full_csv = pd.read_csv(\"emsdata.csv\")\n"
     ]
    }
   ],
   "source": [
    "full_csv = pd.read_csv(\"emsdata.csv\")"
   ]
  },
  {
   "cell_type": "code",
   "execution_count": 12,
   "metadata": {},
   "outputs": [],
   "source": [
    "# print(full_csv.dtypes)\n",
    "drug_csv = full_csv[full_csv[\"initial_call_type\"].isin(drugnumbers) | full_csv[\"final_call_type\"].isin(drugnumbers)] "
   ]
  },
  {
   "cell_type": "code",
   "execution_count": 15,
   "metadata": {},
   "outputs": [
    {
     "data": {
      "text/plain": [
       "(739819, 32)"
      ]
     },
     "execution_count": 15,
     "metadata": {},
     "output_type": "execute_result"
    }
   ],
   "source": [
    "drug_csv.shape"
   ]
  },
  {
   "cell_type": "code",
   "execution_count": 2,
   "metadata": {},
   "outputs": [
    {
     "name": "stderr",
     "output_type": "stream",
     "text": [
      "C:\\Users\\vogeld2\\AppData\\Local\\Temp\\ipykernel_2832\\2924207596.py:1: DtypeWarning: Columns (13) have mixed types. Specify dtype option on import or set low_memory=False.\n",
      "  drug_csv = pd.read_csv(\"drug_related_ems.csv\")\n"
     ]
    }
   ],
   "source": [
    "\n",
    "drug_csv = pd.read_csv(\"drug_related_ems.csv\")\n",
    "\n"
   ]
  },
  {
   "cell_type": "code",
   "execution_count": 4,
   "metadata": {},
   "outputs": [
    {
     "name": "stdout",
     "output_type": "stream",
     "text": [
      "Index(['cad_incident_id', 'initial_severity_level_code',\n",
      "       'final_severity_level_code', 'valid_dispatch_rspns_time_indc',\n",
      "       'dispatch_response_seconds_qy', 'valid_incident_rspns_time_indc',\n",
      "       'incident_response_seconds_qy', 'incident_travel_tm_seconds_qy',\n",
      "       'held_indicator', 'incident_disposition_code', 'borough',\n",
      "       'incident_dispatch_area', 'zipcode', 'policeprecinct',\n",
      "       'citycouncildistrict', 'communitydistrict', 'communityschooldistrict',\n",
      "       'congressionaldistrict', 'reopen_indicator', 'special_event_indicator',\n",
      "       'standby_indicator', 'transfer_indicator', 'incident_dt',\n",
      "       'first_assign_dt', 'first_act_dt', 'first_on_scene_dt',\n",
      "       'first_to_hosp_dt', 'first_hosp_arrival_dt', 'incident_close_dt',\n",
      "       'incident_year', 'initial_call_type', 'final_call_type'],\n",
      "      dtype='object')\n"
     ]
    }
   ],
   "source": [
    "drug_csv.drop(columns=drug_csv.columns[0], \n",
    "        axis=1, \n",
    "        inplace=True)\n",
    "cols = drug_csv.columns\n",
    "print(cols)"
   ]
  },
  {
   "cell_type": "code",
   "execution_count": 6,
   "metadata": {},
   "outputs": [],
   "source": [
    "drug_csv.to_pickle(\"drug_related.pkl\")"
   ]
  },
  {
   "cell_type": "code",
   "execution_count": null,
   "metadata": {},
   "outputs": [],
   "source": [
    "d = pd.read_pickle(\"drug_related.pkl\")"
   ]
  },
  {
   "cell_type": "code",
   "execution_count": 15,
   "metadata": {},
   "outputs": [],
   "source": [
    "drug_csv.to_csv(\"drug_related_ems.csv\")"
   ]
  },
  {
   "cell_type": "code",
   "execution_count": 3,
   "metadata": {},
   "outputs": [],
   "source": [
    "ems_np = drug_csv.to_numpy()"
   ]
  },
  {
   "cell_type": "code",
   "execution_count": 4,
   "metadata": {},
   "outputs": [],
   "source": [
    "boroughs = ems_np[:,11]"
   ]
  },
  {
   "cell_type": "code",
   "execution_count": 5,
   "metadata": {},
   "outputs": [],
   "source": [
    "import matplotlib.pyplot as plt"
   ]
  },
  {
   "cell_type": "code",
   "execution_count": 11,
   "metadata": {},
   "outputs": [],
   "source": [
    "boroughsunique = np.unique(boroughs)"
   ]
  },
  {
   "cell_type": "code",
   "execution_count": 12,
   "metadata": {},
   "outputs": [
    {
     "name": "stdout",
     "output_type": "stream",
     "text": [
      "['BRONX' 'BROOKLYN' 'MANHATTAN' 'QUEENS' 'RICHMOND / STATEN ISLAND'\n",
      " 'UNKNOWN']\n"
     ]
    }
   ],
   "source": [
    "print(boroughsunique)"
   ]
  },
  {
   "cell_type": "code",
   "execution_count": 22,
   "metadata": {},
   "outputs": [
    {
     "data": {
      "text/plain": [
       "<BarContainer object of 6 artists>"
      ]
     },
     "execution_count": 22,
     "metadata": {},
     "output_type": "execute_result"
    },
    {
     "data": {
      "image/png": "[encoded data removed]",
      "text/plain": [
       "<Figure size 432x288 with 1 Axes>"
      ]
     },
     "metadata": {
      "needs_background": "light"
     },
     "output_type": "display_data"
    }
   ],
   "source": [
    "from collections import Counter\n",
    "boroughcounts = Counter(boroughs)\n",
    "# print(boroughcounts)\n",
    "plt.bar(range(len(boroughcounts)), boroughcounts.values(), tick_label = [x[0:4] for x in list(boroughcounts.keys())])"
   ]
  },
  {
   "cell_type": "code",
   "execution_count": 26,
   "metadata": {},
   "outputs": [
    {
     "data": {
      "text/plain": [
       "Text(0.5, 1.0, 'Drug-related emergency calls per person per year')"
      ]
     },
     "execution_count": 26,
     "metadata": {},
     "output_type": "execute_result"
    },
    {
     "data": {
      "image/png": "[encoded data removed]",
      "text/plain": [
       "<Figure size 432x288 with 1 Axes>"
      ]
     },
     "metadata": {
      "needs_background": "light"
     },
     "output_type": "display_data"
    }
   ],
   "source": [
    "calls = np.asarray(list(boroughcounts.values()))\n",
    "pop = np.asarray([1626159,2592149,1418733,472621,2296175,8405837])\n",
    "rates = calls/pop\n",
    "rates /= 8\n",
    "plt.bar(range(len(boroughcounts)), rates, tick_label = [x[0:4] for x in list(boroughcounts.keys())])\n",
    "plt.xlabel(\"Borough\")\n",
    "plt.title(\"Drug-related emergency calls per person per year\")\n"
   ]
  },
  {
   "cell_type": "code",
   "execution_count": 44,
   "metadata": {},
   "outputs": [],
   "source": [
    "ZIPCODE = [int(float(str(x).replace(\",\",\"\"))) for x in ems_np[:,13] if str(x) != \"nan\"]\n",
    "zipcounter = Counter(ZIPCODE)"
   ]
  },
  {
   "cell_type": "code",
   "execution_count": 45,
   "metadata": {},
   "outputs": [
    {
     "name": "stdout",
     "output_type": "stream",
     "text": [
      "232\n",
      "[10010, 11210, 10019, 10462, 10302, 10001, 10457, 11105, 10022, 10014, 10036, 10027, 10035, 10021, 10310, 10003, 10467, 11433, 11221, 10305, 10009, 10304, 11373, 10011, 10007, 10038, 10468, 10472, 11385, 10016, 11249, 10454, 11372, 11235, 10005, 11214, 11217, 11101, 10453, 10025, 10451, 10128, 10018, 10013, 11377, 10012, 11215, 10024, 11434, 11208, 11356, 11354, 11237, 10455, 11220, 11435, 10030, 10458, 10460, 11236, 10165, 11361, 11206, 10452, 11229, 11212, 10028, 11694, 11234, 10031, 11432, 11224, 11378, 11201, 11218, 10075, 11370, 10309, 10463, 10017, 10032, 10456, 11226, 10465, 11374, 11369, 11421, 10002, 10033, 11420, 11368, 11106, 11209, 10026, 10029, 10004, 11364, 10466, 10039, 11225, 11223, 11219, 10301, 10037, 11230, 11213, 11413, 10473, 11216, 11428, 11419, 10312, 11211, 11207, 11233, 11418, 10040, 11222, 11375, 11104, 11205, 11103, 11238, 10469, 11004, 10314, 11692, 10307, 11412, 11365, 11239, 10303, 11691, 10461, 10121, 11427, 10475, 11415, 11411, 10474, 11379, 11358, 11102, 10470, 10459, 10281, 11231, 11204, 11416, 11232, 10282, 10170, 10034, 11417, 10065, 10471, 10023, 11367, 11357, 11363, 11203, 11426, 11436, 11355, 10308, 10280, 11360, 11429, 10020, 11422, 10306, 10119, 11423, 11693, 10006, 11228, 11414, 11362, 11366, 10069, 10464, 10112, 10169, 10278, 10162, 11251, 10044, 10168, 10055, 11040, 10803, 10177, 10172, 11697, 11001, 10000, 10118, 10041, 10111, 10271, 10152, 11109, 10123, 10279, 10154, 11430, 10158, 11242, 11005, 11359, 10179, 10167, 10153, 10105, 10120, 10106, 10103, 11241, 10174, 10110, 10107, 10122, 10173, 10171, 10155, 10115, 10151, 10178, 10045, 11695, 10129, 10048]\n"
     ]
    }
   ],
   "source": [
    "zips = list(zipcounter.keys())\n",
    "counts = list(zipcounter.values())\n",
    "print(len(zips))\n",
    "print(zips)"
   ]
  },
  {
   "cell_type": "code",
   "execution_count": 46,
   "metadata": {},
   "outputs": [
    {
     "data": {
      "text/plain": [
       "<BarContainer object of 232 artists>"
      ]
     },
     "execution_count": 46,
     "metadata": {},
     "output_type": "execute_result"
    },
    {
     "data": {
      "image/png": "[encoded data removed]",
      "text/plain": [
       "<Figure size 432x288 with 1 Axes>"
      ]
     },
     "metadata": {
      "needs_background": "light"
     },
     "output_type": "display_data"
    }
   ],
   "source": [
    "\n",
    "plt.bar(range(len(zipcounter)), counts, tick_label = zips)"
   ]
  },
  {
   "cell_type": "code",
   "execution_count": 9,
   "metadata": {},
   "outputs": [
    {
     "name": "stdout",
     "output_type": "stream",
     "text": [
      "None\n"
     ]
    }
   ],
   "source": [
    "print(ems_np.dtype.names)"
   ]
  },
  {
   "cell_type": "code",
   "execution_count": 16,
   "metadata": {},
   "outputs": [
    {
     "data": {
      "text/plain": [
       "[<matplotlib.lines.Line2D at 0x25413069bb0>]"
      ]
     },
     "execution_count": 16,
     "metadata": {},
     "output_type": "execute_result"
    },
    {
     "data": {
      "image/png": "[encoded data removed]",
      "text/plain": [
       "<Figure size 432x288 with 1 Axes>"
      ]
     },
     "metadata": {
      "needs_background": "light"
     },
     "output_type": "display_data"
    }
   ],
   "source": [
    "y = [2153709.000000756, 1379982.7839035469, 985498.0123193634, 778910.3777266023, 600300.8927582309,\n",
    "     499391.366767894, 440709.1644858943, 363367.468635155, 328133.91385117185, 304231.1723485692]\n",
    "x = [0, 1, 2, 3, 4, 5, 6, 7, 8, 9]\n",
    "plt.plot(x, y)\n"
   ]
  }
 ],
 "metadata": {
  "kernelspec": {
   "display_name": "Python 3.8.11 ('IMT-Agent')",
   "language": "python",
   "name": "python3"
  },
  "language_info": {
   "codemirror_mode": {
    "name": "ipython",
    "version": 3
   },
   "file_extension": ".py",
   "mimetype": "text/x-python",
   "name": "python",
   "nbconvert_exporter": "python",
   "pygments_lexer": "ipython3",
   "version": "3.8.11"
  },
  "orig_nbformat": 4,
  "vscode": {
   "interpreter": {
    "hash": "ec1f366de46a403e7ff40b13a13d17e98c9284f829ff9b65a9a3f8fcb406399a"
   }
  }
 },
 "nbformat": 4,
 "nbformat_minor": 2
}
